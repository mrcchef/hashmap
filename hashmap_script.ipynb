{
 "cells": [
  {
   "cell_type": "code",
   "execution_count": 5,
   "metadata": {},
   "outputs": [],
   "source": [
    "import numpy as np"
   ]
  },
  {
   "cell_type": "code",
   "execution_count": 1,
   "metadata": {},
   "outputs": [],
   "source": [
    "from linked_hashmap import LinkedListHashMap\n",
    "from open_address_hashmap import LinearOpenAddressingHashMap, QuadraticOpenAddressingHashMap"
   ]
  },
  {
   "cell_type": "markdown",
   "metadata": {},
   "source": [
    "## Testing"
   ]
  },
  {
   "cell_type": "code",
   "execution_count": 6,
   "metadata": {},
   "outputs": [],
   "source": [
    "# hm=LinkedListHashMap(8,0.5,2,debug=True)\n",
    "hm=LinearOpenAddressingHashMap(8,0.5,2,debug=True)\n",
    "hm=QuadraticOpenAddressingHashMap(8,0.5,2,debug=True)"
   ]
  },
  {
   "cell_type": "code",
   "execution_count": 7,
   "metadata": {},
   "outputs": [],
   "source": [
    "def insert_keys(hm,keys,values):\n",
    "    for key, value in zip(keys,values):\n",
    "        hm.insert(key,value)\n",
    "\n",
    "def delete_keys(hm,keys):\n",
    "    for key in keys:\n",
    "        hm.delete(key)\n",
    "\n",
    "def fetch_keys(hm,keys):\n",
    "    for key in keys:\n",
    "        print(f\"key: {key} --> value: {hm.get(key)}\")"
   ]
  },
  {
   "cell_type": "code",
   "execution_count": 8,
   "metadata": {},
   "outputs": [
    {
     "data": {
      "text/plain": [
       "(['Hello',\n",
       "  'How',\n",
       "  'are',\n",
       "  'you?',\n",
       "  'I',\n",
       "  'am',\n",
       "  'good!!',\n",
       "  'What',\n",
       "  'about',\n",
       "  'you??'],\n",
       " [464, 784, 967, 601, 19, 561, 628, 550, 920, 256])"
      ]
     },
     "execution_count": 8,
     "metadata": {},
     "output_type": "execute_result"
    }
   ],
   "source": [
    "keys=[\"Hello\",\"How\",\"are\",\"you?\",\"I\",\"am\",\"good!!\",\"What\",\"about\",\"you??\"]\n",
    "values=[np.random.randint(0,1000) for i in range(len(keys))]\n",
    "keys,values"
   ]
  },
  {
   "cell_type": "code",
   "execution_count": 10,
   "metadata": {},
   "outputs": [
    {
     "data": {
      "text/plain": [
       "(['Hello',\n",
       "  'How',\n",
       "  'are',\n",
       "  'you?',\n",
       "  'I',\n",
       "  'am',\n",
       "  'good!!',\n",
       "  'What',\n",
       "  'about',\n",
       "  'you??'],\n",
       " [464, 784, 967, 601, 19, 561, 628, 550, 920, 256])"
      ]
     },
     "execution_count": 10,
     "metadata": {},
     "output_type": "execute_result"
    }
   ],
   "source": [
    "keys,values"
   ]
  },
  {
   "cell_type": "code",
   "execution_count": 11,
   "metadata": {},
   "outputs": [
    {
     "name": "stdout",
     "output_type": "stream",
     "text": [
      "insert:: key: Hello value:464\n",
      "Current Attempt: 1 and key_loc: 7\n",
      "insert:: Inserted the key: Hello.\n",
      "Total Keys cnt: 1 and used keys cnt: 1\n",
      "insert:: key: How value:784\n",
      "Current Attempt: 1 and key_loc: 3\n",
      "insert:: Inserted the key: How.\n",
      "Total Keys cnt: 2 and used keys cnt: 2\n",
      "insert:: key: are value:967\n",
      "Current Attempt: 1 and key_loc: 7\n",
      "Current Attempt: 2 and key_loc: 2\n",
      "insert:: Inserted the key: are.\n",
      "Total Keys cnt: 3 and used keys cnt: 3\n",
      "insert:: key: you? value:601\n",
      "Current Attempt: 1 and key_loc: 3\n",
      "Current Attempt: 2 and key_loc: 6\n",
      "resize::Total Keys cnt: 4 and used keys cnt: 4 Max keys cnt: 8\n",
      "Current Attempt: 1 and key_loc: 15\n",
      "Current Attempt: 1 and key_loc: 11\n",
      "Current Attempt: 1 and key_loc: 3\n",
      "Current Attempt: 1 and key_loc: 7\n",
      "resize:: Resized the Hashmap.\n",
      "Total Keys cnt: 4 and used keys cnt: 4 Max keys cnt: 16\n",
      "insert:: Inserted the key: you?.\n",
      "Total Keys cnt: 4 and used keys cnt: 4\n",
      "insert:: key: I value:19\n",
      "Current Attempt: 1 and key_loc: 8\n",
      "insert:: Inserted the key: I.\n",
      "Total Keys cnt: 5 and used keys cnt: 5\n",
      "insert:: key: am value:561\n",
      "Current Attempt: 1 and key_loc: 10\n",
      "insert:: Inserted the key: am.\n",
      "Total Keys cnt: 6 and used keys cnt: 6\n",
      "insert:: key: good!! value:628\n",
      "Current Attempt: 1 and key_loc: 8\n",
      "Current Attempt: 2 and key_loc: 11\n",
      "Current Attempt: 3 and key_loc: 0\n",
      "insert:: Inserted the key: good!!.\n",
      "Total Keys cnt: 7 and used keys cnt: 7\n",
      "insert:: key: What value:550\n",
      "Current Attempt: 1 and key_loc: 4\n",
      "resize::Total Keys cnt: 8 and used keys cnt: 8 Max keys cnt: 16\n",
      "Current Attempt: 1 and key_loc: 24\n",
      "Current Attempt: 1 and key_loc: 19\n",
      "Current Attempt: 1 and key_loc: 20\n",
      "Current Attempt: 1 and key_loc: 23\n",
      "Current Attempt: 1 and key_loc: 8\n",
      "Current Attempt: 1 and key_loc: 26\n",
      "Current Attempt: 1 and key_loc: 11\n",
      "Current Attempt: 1 and key_loc: 31\n",
      "resize:: Resized the Hashmap.\n",
      "Total Keys cnt: 8 and used keys cnt: 8 Max keys cnt: 32\n",
      "insert:: Inserted the key: What.\n",
      "Total Keys cnt: 8 and used keys cnt: 8\n",
      "insert:: key: about value:920\n",
      "Current Attempt: 1 and key_loc: 11\n",
      "Current Attempt: 2 and key_loc: 14\n",
      "insert:: Inserted the key: about.\n",
      "Total Keys cnt: 9 and used keys cnt: 9\n",
      "insert:: key: you?? value:256\n",
      "Current Attempt: 1 and key_loc: 26\n",
      "Current Attempt: 2 and key_loc: 29\n",
      "insert:: Inserted the key: you??.\n",
      "Total Keys cnt: 10 and used keys cnt: 10\n"
     ]
    }
   ],
   "source": [
    "insert_keys(hm,keys,values)"
   ]
  },
  {
   "cell_type": "code",
   "execution_count": 12,
   "metadata": {},
   "outputs": [
    {
     "name": "stdout",
     "output_type": "stream",
     "text": [
      "Max keys cnt: 32, Keys cnt: 10, Used key cnt: 10\n",
      "resize factor: 2 and load factor: 0.5\n",
      "idx: 0\n",
      "idx: 1\n",
      "idx: 2\n",
      "idx: 3\n",
      "idx: 4\n",
      "idx: 5\n",
      "idx: 6\n",
      "idx: 7\n",
      "idx: 8\n",
      "node.key: I and node.value: 19!\n",
      "idx: 9\n",
      "idx: 10\n",
      "idx: 11\n",
      "node.key: How and node.value: 784!\n",
      "idx: 12\n",
      "idx: 13\n",
      "idx: 14\n",
      "node.key: about and node.value: 920!\n",
      "idx: 15\n",
      "idx: 16\n",
      "idx: 17\n",
      "idx: 18\n",
      "idx: 19\n",
      "node.key: you? and node.value: 601!\n",
      "idx: 20\n",
      "node.key: What and node.value: 550!\n",
      "idx: 21\n",
      "idx: 22\n",
      "idx: 23\n",
      "node.key: Hello and node.value: 464!\n",
      "idx: 24\n",
      "node.key: good!! and node.value: 628!\n",
      "idx: 25\n",
      "idx: 26\n",
      "node.key: am and node.value: 561!\n",
      "idx: 27\n",
      "idx: 28\n",
      "idx: 29\n",
      "node.key: you?? and node.value: 256!\n",
      "idx: 30\n",
      "idx: 31\n",
      "node.key: are and node.value: 967!\n"
     ]
    }
   ],
   "source": [
    "hm.get_meta_data()"
   ]
  },
  {
   "cell_type": "code",
   "execution_count": 13,
   "metadata": {},
   "outputs": [
    {
     "name": "stdout",
     "output_type": "stream",
     "text": [
      "get:: key: Hello\n",
      "Current Attempt: 1 and key_loc: 23\n",
      "key: Hello --> value: 464\n",
      "get:: key: How\n",
      "Current Attempt: 1 and key_loc: 11\n",
      "key: How --> value: 784\n",
      "get:: key: are\n",
      "Current Attempt: 1 and key_loc: 31\n",
      "key: are --> value: 967\n",
      "get:: key: you?\n",
      "Current Attempt: 1 and key_loc: 19\n",
      "key: you? --> value: 601\n",
      "get:: key: I\n",
      "Current Attempt: 1 and key_loc: 8\n",
      "key: I --> value: 19\n",
      "get:: key: am\n",
      "Current Attempt: 1 and key_loc: 26\n",
      "key: am --> value: 561\n",
      "get:: key: good!!\n",
      "Current Attempt: 1 and key_loc: 24\n",
      "key: good!! --> value: 628\n",
      "get:: key: What\n",
      "Current Attempt: 1 and key_loc: 20\n",
      "key: What --> value: 550\n",
      "get:: key: about\n",
      "Current Attempt: 1 and key_loc: 11\n",
      "Current Attempt: 2 and key_loc: 14\n",
      "key: about --> value: 920\n",
      "get:: key: you??\n",
      "Current Attempt: 1 and key_loc: 26\n",
      "Current Attempt: 2 and key_loc: 29\n",
      "key: you?? --> value: 256\n"
     ]
    }
   ],
   "source": [
    "fetch_keys(hm,keys)"
   ]
  },
  {
   "cell_type": "code",
   "execution_count": 14,
   "metadata": {},
   "outputs": [
    {
     "name": "stdout",
     "output_type": "stream",
     "text": [
      "delete:: key: Hello\n",
      "Current Attempt: 1 and key_loc: 23\n",
      "delete:: Deleted the key: Hello.\n",
      "Total Keys cnt: 9 and used keys cnt: 10\n",
      "delete:: key: How\n",
      "Current Attempt: 1 and key_loc: 11\n",
      "delete:: Deleted the key: How.\n",
      "Total Keys cnt: 8 and used keys cnt: 10\n",
      "delete:: key: are\n",
      "Current Attempt: 1 and key_loc: 31\n",
      "delete:: Deleted the key: are.\n",
      "Total Keys cnt: 7 and used keys cnt: 10\n",
      "delete:: key: you?\n",
      "Current Attempt: 1 and key_loc: 19\n",
      "delete:: Deleted the key: you?.\n",
      "Total Keys cnt: 6 and used keys cnt: 10\n",
      "delete:: key: I\n",
      "Current Attempt: 1 and key_loc: 8\n",
      "delete:: Deleted the key: I.\n",
      "Total Keys cnt: 5 and used keys cnt: 10\n",
      "delete:: key: am\n",
      "Current Attempt: 1 and key_loc: 26\n",
      "delete:: Deleted the key: am.\n",
      "Total Keys cnt: 4 and used keys cnt: 10\n",
      "delete:: key: good!!\n",
      "Current Attempt: 1 and key_loc: 24\n",
      "delete:: Deleted the key: good!!.\n",
      "Total Keys cnt: 3 and used keys cnt: 10\n",
      "delete:: key: What\n",
      "Current Attempt: 1 and key_loc: 20\n",
      "delete:: Deleted the key: What.\n",
      "Total Keys cnt: 2 and used keys cnt: 10\n",
      "delete:: key: about\n",
      "Current Attempt: 1 and key_loc: 11\n",
      "Current Attempt: 2 and key_loc: 14\n",
      "delete:: Deleted the key: about.\n",
      "Total Keys cnt: 1 and used keys cnt: 10\n",
      "delete:: key: you??\n",
      "Current Attempt: 1 and key_loc: 26\n",
      "Current Attempt: 2 and key_loc: 29\n",
      "delete:: Deleted the key: you??.\n",
      "Total Keys cnt: 0 and used keys cnt: 10\n"
     ]
    }
   ],
   "source": [
    "delete_keys(hm,keys)"
   ]
  },
  {
   "cell_type": "code",
   "execution_count": 15,
   "metadata": {},
   "outputs": [
    {
     "name": "stdout",
     "output_type": "stream",
     "text": [
      "Max keys cnt: 32, Keys cnt: 0, Used key cnt: 10\n",
      "resize factor: 2 and load factor: 0.5\n",
      "idx: 0\n",
      "idx: 1\n",
      "idx: 2\n",
      "idx: 3\n",
      "idx: 4\n",
      "idx: 5\n",
      "idx: 6\n",
      "idx: 7\n",
      "idx: 8\n",
      "idx: 9\n",
      "idx: 10\n",
      "idx: 11\n",
      "idx: 12\n",
      "idx: 13\n",
      "idx: 14\n",
      "idx: 15\n",
      "idx: 16\n",
      "idx: 17\n",
      "idx: 18\n",
      "idx: 19\n",
      "idx: 20\n",
      "idx: 21\n",
      "idx: 22\n",
      "idx: 23\n",
      "idx: 24\n",
      "idx: 25\n",
      "idx: 26\n",
      "idx: 27\n",
      "idx: 28\n",
      "idx: 29\n",
      "idx: 30\n",
      "idx: 31\n"
     ]
    }
   ],
   "source": [
    "hm.get_meta_data()"
   ]
  },
  {
   "cell_type": "code",
   "execution_count": null,
   "metadata": {},
   "outputs": [],
   "source": [
    "import timeit\n",
    "\n",
    "def benchmark_single_operation(hm_class, num_keys):\n",
    "    \"\"\" Run benchmark for a single hashmap class over multiple keys. \"\"\"\n",
    "    \n",
    "    # Prepare random keys and values\n",
    "    keys = [f\"key_{i}\" for i in range(num_keys)]\n",
    "    values = [f\"value_{i}\" for i in range(num_keys)]\n",
    "    \n",
    "    # Create a new instance of the hashmap implementation\n",
    "    hm = hm_class(max_keys=8)\n",
    "\n",
    "    # ------- Test Insertion -------\n",
    "    def insert_test():\n",
    "        for key, value in zip(keys, values):\n",
    "            hm.insert(key, value)\n",
    "\n",
    "    # ------- Test Get -------\n",
    "    def get_test():\n",
    "        for key in keys:\n",
    "            hm.get(key)\n",
    "    \n",
    "    # ------- Test Delete -------\n",
    "    def delete_test():\n",
    "        for key in keys:\n",
    "            hm.delete(key)\n",
    "\n",
    "    # Benchmarking each operation\n",
    "    insert_time = timeit.timeit(insert_test, number=1)\n",
    "    get_time = timeit.timeit(get_test, number=1)\n",
    "    delete_time = timeit.timeit(delete_test, number=1)\n",
    "\n",
    "    return insert_time, get_time, delete_time\n",
    "\n",
    "\n",
    "def benchmark_testing():\n",
    "    \"\"\" Run benchmarks on different sets of total keys for both hashmaps. \"\"\"\n",
    "    \n",
    "    # Number of total keys to test with: 100, 10,000, 1,000,000\n",
    "    key_sizes = [100,10000,1000000]\n",
    "    \n",
    "    # List of classes to benchmark\n",
    "    hashmaps_to_test = [LinkedListHashMap, LinearOpenAddressingHashMap,QuadraticOpenAddressingHashMap]  # Replace with your classes\n",
    "    \n",
    "    for num_keys in key_sizes:\n",
    "        print(f\"\\nBenchmarking for {num_keys} keys:\")\n",
    "        \n",
    "        for hm_class in hashmaps_to_test:\n",
    "            # Get class name for logging\n",
    "            class_name = hm_class.__name__\n",
    "\n",
    "            # Perform benchmark test\n",
    "            insert_time, get_time, delete_time = benchmark_single_operation(hm_class, num_keys)\n",
    "\n",
    "            print(f\"\\nResults for: {class_name}\")\n",
    "            print(f\"Insertion time for {num_keys} keys: {insert_time:.6f} seconds\")\n",
    "            print(f\"Get operation time for {num_keys} keys: {get_time:.6f} seconds\")\n",
    "            print(f\"Delete operation time for {num_keys} keys: {delete_time:.6f} seconds\")\n",
    "\n"
   ]
  },
  {
   "cell_type": "code",
   "execution_count": 18,
   "metadata": {},
   "outputs": [
    {
     "name": "stdout",
     "output_type": "stream",
     "text": [
      "\n",
      "Benchmarking for 100 keys:\n",
      "\n",
      "Results for: LinkedListHashMap\n",
      "Insertion time for 100 keys: 0.000244 seconds\n",
      "Get operation time for 100 keys: 0.000068 seconds\n",
      "Delete operation time for 100 keys: 0.000082 seconds\n",
      "\n",
      "Results for: LinearOpenAddressingHashMap\n",
      "Insertion time for 100 keys: 0.000238 seconds\n",
      "Get operation time for 100 keys: 0.000124 seconds\n",
      "Delete operation time for 100 keys: 0.000132 seconds\n",
      "\n",
      "Results for: QuadraticOpenAddressingHashMap\n",
      "Insertion time for 100 keys: 0.000286 seconds\n",
      "Get operation time for 100 keys: 0.000166 seconds\n",
      "Delete operation time for 100 keys: 0.000143 seconds\n",
      "\n",
      "Benchmarking for 10000 keys:\n",
      "\n",
      "Results for: LinkedListHashMap\n",
      "Insertion time for 10000 keys: 0.023103 seconds\n",
      "Get operation time for 10000 keys: 0.007046 seconds\n",
      "Delete operation time for 10000 keys: 0.025153 seconds\n",
      "\n",
      "Results for: LinearOpenAddressingHashMap\n",
      "Insertion time for 10000 keys: 0.040829 seconds\n",
      "Get operation time for 10000 keys: 0.011898 seconds\n",
      "Delete operation time for 10000 keys: 0.012183 seconds\n",
      "\n",
      "Results for: QuadraticOpenAddressingHashMap\n",
      "Insertion time for 10000 keys: 0.024761 seconds\n",
      "Get operation time for 10000 keys: 0.011313 seconds\n",
      "Delete operation time for 10000 keys: 0.011938 seconds\n",
      "\n",
      "Benchmarking for 1000000 keys:\n",
      "\n",
      "Results for: LinkedListHashMap\n",
      "Insertion time for 1000000 keys: 2.520948 seconds\n",
      "Get operation time for 1000000 keys: 0.963288 seconds\n",
      "Delete operation time for 1000000 keys: 1.030615 seconds\n",
      "\n",
      "Results for: LinearOpenAddressingHashMap\n",
      "Insertion time for 1000000 keys: 2.651136 seconds\n",
      "Get operation time for 1000000 keys: 1.464748 seconds\n",
      "Delete operation time for 1000000 keys: 1.501678 seconds\n",
      "\n",
      "Results for: QuadraticOpenAddressingHashMap\n",
      "Insertion time for 1000000 keys: 2.575509 seconds\n",
      "Get operation time for 1000000 keys: 1.435130 seconds\n",
      "Delete operation time for 1000000 keys: 1.486140 seconds\n"
     ]
    }
   ],
   "source": [
    "benchmark_testing()"
   ]
  },
  {
   "cell_type": "code",
   "execution_count": null,
   "metadata": {},
   "outputs": [],
   "source": []
  }
 ],
 "metadata": {
  "kernelspec": {
   "display_name": "Python 3",
   "language": "python",
   "name": "python3"
  },
  "language_info": {
   "codemirror_mode": {
    "name": "ipython",
    "version": 3
   },
   "file_extension": ".py",
   "mimetype": "text/x-python",
   "name": "python",
   "nbconvert_exporter": "python",
   "pygments_lexer": "ipython3",
   "version": "3.10.10"
  }
 },
 "nbformat": 4,
 "nbformat_minor": 2
}
